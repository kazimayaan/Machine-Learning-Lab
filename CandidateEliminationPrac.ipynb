{
  "nbformat": 4,
  "nbformat_minor": 0,
  "metadata": {
    "colab": {
      "provenance": [],
      "authorship_tag": "ABX9TyNmKrG0iVBGYUOrLVuY+H2G",
      "include_colab_link": true
    },
    "kernelspec": {
      "name": "python3",
      "display_name": "Python 3"
    },
    "language_info": {
      "name": "python"
    }
  },
  "cells": [
    {
      "cell_type": "markdown",
      "metadata": {
        "id": "view-in-github",
        "colab_type": "text"
      },
      "source": [
        "<a href=\"https://colab.research.google.com/github/kazimayaan/Machine-Learning-Lab/blob/main/CandidateEliminationPrac.ipynb\" target=\"_parent\"><img src=\"https://colab.research.google.com/assets/colab-badge.svg\" alt=\"Open In Colab\"/></a>"
      ]
    },
    {
      "cell_type": "code",
      "execution_count": 1,
      "metadata": {
        "id": "OtlBxtlqnfPz"
      },
      "outputs": [],
      "source": [
        "import csv"
      ]
    },
    {
      "cell_type": "code",
      "source": [
        "def main():\n",
        "  file=\"/content/trainingex.csv\"\n",
        "  fd = csv.reader(open(file))\n",
        "  posex=[]\n",
        "  negex=[]\n",
        "  specx=[]\n",
        "  print(\"----------------the training data given is ------------------\")\n",
        "  for line in fd:\n",
        "    print(line)\n",
        "    if line[-1]=='Yes':\n",
        "      posex.append(line)\n",
        "    if line[-1]=='No':\n",
        "      negex.append(line)\n",
        "  print(\"----------positive examples------------\")\n",
        "  display(posex)\n",
        "  print(\"----------negative examples------------\")\n",
        "  display(negex)\n",
        "\n",
        "  row = len(posex)\n",
        "  col = len(posex[0])\n",
        "\n",
        "  for i in range(col-1):\n",
        "    specx.append(posex[0][i])\n",
        "  \n",
        "  # display(specx)\n",
        "  for i in range(row):\n",
        "    for j in range(col-1):\n",
        "      if specx[j]!=posex[i][j]:\n",
        "        specx[j]='?'\n",
        "  \n",
        "  print('--------the specific hypothesis is--------')\n",
        "  display(specx)\n",
        "\n",
        "  print(\"\\n the general hypothesis are:\")\n",
        "\n",
        "  row= len(negex)\n",
        "  col= len(negex[0])\n",
        "\n",
        "  for i in range(row):\n",
        "    for j in range(col-1):\n",
        "      gen=['?','?','?','?','?','?']\n",
        "      if specx[j]!=negex[i][j]:\n",
        "        gen[j]=specx[j]\n",
        "        print(gen)\n"
      ],
      "metadata": {
        "id": "e9dmWVW_nwau"
      },
      "execution_count": 15,
      "outputs": []
    },
    {
      "cell_type": "code",
      "source": [
        "main()\n",
        "\n"
      ],
      "metadata": {
        "colab": {
          "base_uri": "https://localhost:8080/",
          "height": 381
        },
        "id": "SeF6NKDIo3s-",
        "outputId": "e14da9b2-d967-4144-c8c1-28a7c9fc2a48"
      },
      "execution_count": 14,
      "outputs": [
        {
          "output_type": "stream",
          "name": "stdout",
          "text": [
            "----------------the training data given is ------------------\n",
            "['sky', 'airtemp', 'humidity', 'wind', 'water', 'forcast', 'enjoysport']\n",
            "['Sunny', 'Warm', 'Normal', 'Strong', 'Warm', 'Same', 'Yes']\n",
            "['Sunny', 'Warm', 'High', 'Strong', 'Warm', 'Same', 'Yes']\n",
            "['Rainy', 'Cold', 'High', 'Strong', 'Warm', 'Change', 'No']\n",
            "['Sunny', 'Warm', 'High', 'Strong', 'Cool', 'Change', 'Yes']\n",
            "----------positive examples------------\n"
          ]
        },
        {
          "output_type": "display_data",
          "data": {
            "text/plain": [
              "[['Sunny', 'Warm', 'Normal', 'Strong', 'Warm', 'Same', 'Yes'],\n",
              " ['Sunny', 'Warm', 'High', 'Strong', 'Warm', 'Same', 'Yes'],\n",
              " ['Sunny', 'Warm', 'High', 'Strong', 'Cool', 'Change', 'Yes']]"
            ]
          },
          "metadata": {}
        },
        {
          "output_type": "stream",
          "name": "stdout",
          "text": [
            "----------negative examples------------\n"
          ]
        },
        {
          "output_type": "display_data",
          "data": {
            "text/plain": [
              "[['Rainy', 'Cold', 'High', 'Strong', 'Warm', 'Change', 'No']]"
            ]
          },
          "metadata": {}
        },
        {
          "output_type": "stream",
          "name": "stdout",
          "text": [
            "--------the specific hypothesis is--------\n"
          ]
        },
        {
          "output_type": "display_data",
          "data": {
            "text/plain": [
              "['Sunny', 'Warm', '?', 'Strong', '?', '?']"
            ]
          },
          "metadata": {}
        },
        {
          "output_type": "stream",
          "name": "stdout",
          "text": [
            "\n",
            " the general hypothesis are:\n",
            "['Sunny', '?', '?', '?', '?', '?']\n",
            "['?', 'Warm', '?', '?', '?', '?']\n",
            "['?', '?', '?', '?', '?', '?']\n",
            "['?', '?', '?', '?', '?', '?']\n",
            "['?', '?', '?', '?', '?', '?']\n"
          ]
        }
      ]
    }
  ]
}