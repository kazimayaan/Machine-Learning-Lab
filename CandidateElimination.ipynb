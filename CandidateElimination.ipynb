{
  "nbformat": 4,
  "nbformat_minor": 0,
  "metadata": {
    "colab": {
      "provenance": [],
      "authorship_tag": "ABX9TyO+An9qC9897dcsnSTm70y/",
      "include_colab_link": true
    },
    "kernelspec": {
      "name": "python3",
      "display_name": "Python 3"
    },
    "language_info": {
      "name": "python"
    }
  },
  "cells": [
    {
      "cell_type": "markdown",
      "metadata": {
        "id": "view-in-github",
        "colab_type": "text"
      },
      "source": [
        "<a href=\"https://colab.research.google.com/github/kazimayaan/Machine-Learning-Lab/blob/main/CandidateElimination.ipynb\" target=\"_parent\"><img src=\"https://colab.research.google.com/assets/colab-badge.svg\" alt=\"Open In Colab\"/></a>"
      ]
    },
    {
      "cell_type": "code",
      "execution_count": 1,
      "metadata": {
        "id": "upI_bokeSLsO"
      },
      "outputs": [],
      "source": [
        "import csv\n"
      ]
    },
    {
      "cell_type": "code",
      "source": [
        "file=\"/content/trainingex.csv\"\n",
        "fd = csv.reader(open(file))\n",
        "hypo=[]\n",
        "data=[]\n",
        "temp=[]\n",
        "print(\"---------------the given data training examples are---------------\")\n",
        "\n",
        "for line in fd:\n",
        "  print(line)\n",
        "  if line[-1]=='Yes':\n",
        "    data.append(line)\n",
        "  if line[-1]=='No':\n",
        "    temp.append(line)\n",
        "print(\"\\n---------------The Positive Examples are------------\")\n",
        "\n",
        "for line in data:\n",
        "  print(line);\n",
        "\n",
        "print(\"\\n------------the negative examples are-------------\")\n",
        "for line in temp:\n",
        "  print(temp);\n",
        "\n",
        "row=len(data)\n",
        "col=len(data[0])\n",
        "print(row,col)\n",
        "\n",
        "for j in range(col):\n",
        "  hypo.append(data[0][j])\n",
        "display(hypo)\n",
        "for i in range(row):\n",
        "  for j in range(col):\n",
        "    if hypo[j]!=data[i][j]:\n",
        "      hypo[j]='?'\n",
        "\n",
        "print(\"\\n the specific hypothesis is\")\n",
        "display(hypo)\n",
        "\n",
        "row = len(temp)\n",
        "col = len(temp[0])\n",
        "\n",
        "print(\"\\n----------------------The Final Generalized Output-----------------\")\n",
        "for i in range(row):\n",
        "  for j in range(col-1):\n",
        "    gen=['?', '?', '?', '?', '?', '?', '?']\n",
        "    if hypo[j]!=temp[i][j]:\n",
        "      gen[j]=hypo[j]\n",
        "      print(gen)"
      ],
      "metadata": {
        "colab": {
          "base_uri": "https://localhost:8080/",
          "height": 468
        },
        "id": "rCZHw6rhSR40",
        "outputId": "af30a2f4-2bda-4318-db5c-06024638506b"
      },
      "execution_count": 29,
      "outputs": [
        {
          "output_type": "stream",
          "name": "stdout",
          "text": [
            "---------------the given data training examples are---------------\n",
            "['sky', 'airtemp', 'humidity', 'wind', 'water', 'forcast', 'enjoysport']\n",
            "['Sunny', 'Warm', 'Normal', 'Strong', 'Warm', 'Same', 'Yes']\n",
            "['Sunny', 'Warm', 'High', 'Strong', 'Warm', 'Same', 'Yes']\n",
            "['Rainy', 'Cold', 'High', 'Strong', 'Warm', 'Change', 'No']\n",
            "['Sunny', 'Warm', 'High', 'Strong', 'Cool', 'Change', 'Yes']\n",
            "\n",
            "---------------The Positive Examples are------------\n",
            "['Sunny', 'Warm', 'Normal', 'Strong', 'Warm', 'Same', 'Yes']\n",
            "['Sunny', 'Warm', 'High', 'Strong', 'Warm', 'Same', 'Yes']\n",
            "['Sunny', 'Warm', 'High', 'Strong', 'Cool', 'Change', 'Yes']\n",
            "\n",
            "------------the negative examples are-------------\n",
            "[['Rainy', 'Cold', 'High', 'Strong', 'Warm', 'Change', 'No']]\n",
            "3 7\n"
          ]
        },
        {
          "output_type": "display_data",
          "data": {
            "text/plain": [
              "['Sunny', 'Warm', 'Normal', 'Strong', 'Warm', 'Same', 'Yes']"
            ]
          },
          "metadata": {}
        },
        {
          "output_type": "stream",
          "name": "stdout",
          "text": [
            "\n",
            " the specific hypothesis is\n"
          ]
        },
        {
          "output_type": "display_data",
          "data": {
            "text/plain": [
              "['Sunny', 'Warm', '?', 'Strong', '?', '?', 'Yes']"
            ]
          },
          "metadata": {}
        },
        {
          "output_type": "stream",
          "name": "stdout",
          "text": [
            "\n",
            "----------------------The Final Generalized Output-----------------\n",
            "['Sunny', '?', '?', '?', '?', '?', '?']\n",
            "['?', 'Warm', '?', '?', '?', '?', '?']\n",
            "['?', '?', '?', '?', '?', '?', '?']\n",
            "['?', '?', '?', '?', '?', '?', '?']\n",
            "['?', '?', '?', '?', '?', '?', '?']\n"
          ]
        }
      ]
    },
    {
      "cell_type": "code",
      "source": [],
      "metadata": {
        "id": "oMGzmlBBV91U"
      },
      "execution_count": null,
      "outputs": []
    }
  ]
}