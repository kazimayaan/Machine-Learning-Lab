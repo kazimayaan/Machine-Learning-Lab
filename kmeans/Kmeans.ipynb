{
  "nbformat": 4,
  "nbformat_minor": 0,
  "metadata": {
    "colab": {
      "provenance": [],
      "authorship_tag": "ABX9TyPi4tTxTAXQqYFFDsT9i7Ta",
      "include_colab_link": true
    },
    "kernelspec": {
      "name": "python3",
      "display_name": "Python 3"
    },
    "language_info": {
      "name": "python"
    }
  },
  "cells": [
    {
      "cell_type": "markdown",
      "metadata": {
        "id": "view-in-github",
        "colab_type": "text"
      },
      "source": [
        "<a href=\"https://colab.research.google.com/github/kazimayaan/Machine-Learning-Lab/blob/main/Kmeans.ipynb\" target=\"_parent\"><img src=\"https://colab.research.google.com/assets/colab-badge.svg\" alt=\"Open In Colab\"/></a>"
      ]
    },
    {
      "cell_type": "code",
      "execution_count": 7,
      "metadata": {
        "id": "nz6XH9uny5li"
      },
      "outputs": [],
      "source": [
        "import csv\n",
        "import pandas as pd\n",
        "import matplotlib.pyplot as plt\n",
        "import numpy as np"
      ]
    },
    {
      "cell_type": "code",
      "source": [
        "def kmeans(DATA):\n",
        "  print(\"enter the light weight boxing centroid\")\n",
        "  w1,h1=input().split()\n",
        "  print(\"enter the middle weight boxing centroid\")\n",
        "  w2,h2=input().split()\n",
        "  print(\"enter the heavy weight boxing centroid\")\n",
        "  w3,h3=input().split()\n",
        "  w1=int(w1)\n",
        "  w2=int(w2)\n",
        "  w3=int(w3)\n",
        "  h1=int(h1)\n",
        "  h2=int(h2)\n",
        "  h3=int(h3)\n",
        "  for line in DATA:\n",
        "    x=int(line[0])\n",
        "    y=int(line[1])\n",
        "    d1= np.sqrt((x-w1)**2+(y-h1)**2)\n",
        "    d2= np.sqrt((x-w2)**2+(y-h2)**2)\n",
        "    d3= np.sqrt((x-w3)**2+(y-h3)**2)\n",
        "    if d1<d2 and d1<d3:\n",
        "      print(\"boxer having weight=\",x,\"height=\",y,\"belong to cluster one\")\n",
        "      w1=(w1+x)/2\n",
        "      h1=(h1+y)/2\n",
        "      plt.scatter(x,y,c='red')\n",
        "   \n",
        "    elif d2<d1 and d2<d3:\n",
        "      print(\"boxer having weight=\",x,\"height=\",y,\"belong to cluster two\")\n",
        "      w2=(w2+x)/2\n",
        "      h2=(h2+y)/2\n",
        "      plt.scatter(x,y,c='blue')\n",
        "    else:\n",
        "      print(\"boxer having weight=\",x,\"height=\",y,\"belong to cluster three\")\n",
        "      w3=(w3+x)/2\n",
        "      h3=(h3+y)/2\n",
        "      plt.scatter(x,y,c='green')\n",
        "\n",
        "  plt.xlabel('weight')\n",
        "  plt.ylabel('height')\n",
        "  plt.show()\n",
        "   \n"
      ],
      "metadata": {
        "id": "-n1oXnZQzurU"
      },
      "execution_count": 8,
      "outputs": []
    },
    {
      "cell_type": "code",
      "source": [
        "def main():\n",
        "  file = \"/content/BOXING.csv\"\n",
        "  data=[]\n",
        "  fd = csv.reader(open(file))\n",
        "  for line in fd:\n",
        "    data.append(line)\n",
        "\n",
        "  DATA=data[1:]\n",
        "  display(DATA)\n",
        "  kmeans(DATA)"
      ],
      "metadata": {
        "id": "9prxFHu3zEL6"
      },
      "execution_count": 9,
      "outputs": []
    },
    {
      "cell_type": "code",
      "source": [
        "main()"
      ],
      "metadata": {
        "colab": {
          "base_uri": "https://localhost:8080/",
          "height": 1000
        },
        "id": "9MlpmqFHznca",
        "outputId": "659e146b-3356-4a96-be29-d199f7e40e3a"
      },
      "execution_count": 10,
      "outputs": [
        {
          "output_type": "display_data",
          "data": {
            "text/plain": [
              "[['90', '185'],\n",
              " ['50', '165'],\n",
              " ['95', '175'],\n",
              " ['85', '173'],\n",
              " ['65', '169'],\n",
              " ['55', '170'],\n",
              " ['68', '160'],\n",
              " ['49', '163'],\n",
              " ['86', '170'],\n",
              " ['100', '167'],\n",
              " ['99', '175'],\n",
              " ['74', '170'],\n",
              " ['68', '167'],\n",
              " ['55', '170'],\n",
              " ['48', '160'],\n",
              " ['95', '170'],\n",
              " ['100', '177'],\n",
              " ['67', '170'],\n",
              " ['80', '178'],\n",
              " ['77', '173']]"
            ]
          },
          "metadata": {}
        },
        {
          "output_type": "stream",
          "name": "stdout",
          "text": [
            "enter the light weight boxing centroid\n",
            "45 170\n",
            "enter the middle weight boxing centroid\n",
            "70 180\n",
            "enter the heavy weight boxing centroid\n",
            "90 190\n",
            "boxer having weight= 90 height= 185 belong to cluster three\n",
            "boxer having weight= 50 height= 165 belong to cluster one\n",
            "boxer having weight= 95 height= 175 belong to cluster three\n",
            "boxer having weight= 85 height= 173 belong to cluster three\n",
            "boxer having weight= 65 height= 169 belong to cluster two\n",
            "boxer having weight= 55 height= 170 belong to cluster one\n",
            "boxer having weight= 68 height= 160 belong to cluster two\n",
            "boxer having weight= 49 height= 163 belong to cluster one\n",
            "boxer having weight= 86 height= 170 belong to cluster three\n",
            "boxer having weight= 100 height= 167 belong to cluster three\n",
            "boxer having weight= 99 height= 175 belong to cluster three\n",
            "boxer having weight= 74 height= 170 belong to cluster two\n",
            "boxer having weight= 68 height= 167 belong to cluster two\n",
            "boxer having weight= 55 height= 170 belong to cluster one\n",
            "boxer having weight= 48 height= 160 belong to cluster one\n",
            "boxer having weight= 95 height= 170 belong to cluster three\n",
            "boxer having weight= 100 height= 177 belong to cluster three\n",
            "boxer having weight= 67 height= 170 belong to cluster two\n",
            "boxer having weight= 80 height= 178 belong to cluster two\n",
            "boxer having weight= 77 height= 173 belong to cluster two\n"
          ]
        },
        {
          "output_type": "display_data",
          "data": {
            "text/plain": [
              "<Figure size 432x288 with 1 Axes>"
            ],
            "image/png": "[encoded data removed]"
          },
          "metadata": {
            "needs_background": "light"
          }
        }
      ]
    }
  ]
}