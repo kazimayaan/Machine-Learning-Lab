{
  "nbformat": 4,
  "nbformat_minor": 0,
  "metadata": {
    "colab": {
      "provenance": [],
      "authorship_tag": "ABX9TyNbducWwzs3Xhf7w0X+JlFi",
      "include_colab_link": true
    },
    "kernelspec": {
      "name": "python3",
      "display_name": "Python 3"
    },
    "language_info": {
      "name": "python"
    }
  },
  "cells": [
    {
      "cell_type": "markdown",
      "metadata": {
        "id": "view-in-github",
        "colab_type": "text"
      },
      "source": [
        "<a href=\"https://colab.research.google.com/github/kazimayaan/Machine-Learning-Lab/blob/main/asstaar.ipynb\" target=\"_parent\"><img src=\"https://colab.research.google.com/assets/colab-badge.svg\" alt=\"Open In Colab\"/></a>"
      ]
    },
    {
      "cell_type": "code",
      "execution_count": 2,
      "metadata": {
        "id": "xMWgHqesPwUC"
      },
      "outputs": [],
      "source": [
        "def astaralgo(startnode,stopnode):\n",
        "  openset = set(startnode)\n",
        "  closedset = set()\n",
        "  g ={}\n",
        "  parents = {}\n",
        "  g[startnode] = 0\n",
        "  parents[startnode] = startnode\n",
        "\n",
        "  while len(openset)>0:\n",
        "    n = None\n",
        "    for v in openset:\n",
        "      if n == None or g[v]+h(v) < g[n]+h(n):\n",
        "        n = v\n",
        "    if n == stopnode or graph ==None:\n",
        "      pass\n",
        "    else:\n",
        "      for (m,weight) in ne(n):\n",
        "        if m not in openset and m not in closedset:\n",
        "          openset.add(m)\n",
        "          g[m] = g[n] + weight\n",
        "          parents[m] = n\n",
        "        else:\n",
        "          if g[m] > g[n]+weight:\n",
        "            g[m] = g[n]+weight\n",
        "            parents[m] = n\n",
        "            if m in closedset:\n",
        "              closedset.remove(m)\n",
        "              openset.add(m)\n",
        "\n",
        "    if n == None :\n",
        "      return None\n",
        "    if n == stopnode:\n",
        "      path = []\n",
        "      while parents[n] != n:\n",
        "        n = parents[n]\n",
        "        path.append(n)\n",
        "\n",
        "      path.append(startnode)\n",
        "      path.reverse()\n",
        "      print(path)\n",
        "      return path\n",
        "\n",
        "    openset.remove(n)\n",
        "    closedset.add(n)\n",
        "  return None\n",
        "\n",
        "            \n",
        "  "
      ]
    },
    {
      "cell_type": "code",
      "source": [
        "def ne(n):\n",
        "  if n in graph:\n",
        "    return graph[n]\n",
        "  else:\n",
        "    return None\n",
        "\n",
        "def h(n):\n",
        "    a = {\n",
        "      'A':10,\n",
        "      'B':8,\n",
        "      'C':6,\n",
        "      'D':0\n",
        "    }\n",
        "    return a[n]\n",
        "\n",
        "graph = {\n",
        "    'A':[('B',4),('C',7)],\n",
        "    'B':[('C',5)],\n",
        "    'C':[('D',3)]\n",
        "}\n",
        "astaralgo('A','D')"
      ],
      "metadata": {
        "colab": {
          "base_uri": "https://localhost:8080/"
        },
        "id": "S567x0qMRv0u",
        "outputId": "b0e9871e-f2a9-4968-e558-f7d10adadf1a"
      },
      "execution_count": 9,
      "outputs": [
        {
          "output_type": "stream",
          "name": "stdout",
          "text": [
            "['A', 'A', 'C']\n"
          ]
        },
        {
          "output_type": "execute_result",
          "data": {
            "text/plain": [
              "['A', 'A', 'C']"
            ]
          },
          "metadata": {},
          "execution_count": 9
        }
      ]
    }
  ]
}