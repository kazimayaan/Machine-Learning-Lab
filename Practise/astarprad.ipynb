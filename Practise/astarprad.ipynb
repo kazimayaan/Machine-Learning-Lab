{
  "nbformat": 4,
  "nbformat_minor": 0,
  "metadata": {
    "colab": {
      "provenance": [],
      "authorship_tag": "ABX9TyOnZ7wdGy9EhoDLqkkw8Cvv",
      "include_colab_link": true
    },
    "kernelspec": {
      "name": "python3",
      "display_name": "Python 3"
    },
    "language_info": {
      "name": "python"
    }
  },
  "cells": [
    {
      "cell_type": "markdown",
      "metadata": {
        "id": "view-in-github",
        "colab_type": "text"
      },
      "source": [
        "<a href=\"https://colab.research.google.com/github/kazimayaan/Machine-Learning-Lab/blob/main/astarprad.ipynb\" target=\"_parent\"><img src=\"https://colab.research.google.com/assets/colab-badge.svg\" alt=\"Open In Colab\"/></a>"
      ]
    },
    {
      "cell_type": "code",
      "execution_count": 1,
      "metadata": {
        "id": "7ZudnmCMozCh"
      },
      "outputs": [],
      "source": [
        "import networkx as nx"
      ]
    },
    {
      "cell_type": "code",
      "source": [
        "G = nx.Graph()\n",
        "G.add_edge('A','B',weight=9)\n",
        "G.add_edge('A','C',weight=91)\n",
        "G.add_edge('A','D',weight=19)\n",
        "G.add_edge('A','E',weight=89)\n",
        "G.add_edge('B','F',weight=54)\n",
        "G.add_edge('B','C',weight=3)\n",
        "G.add_edge('F','G',weight=2)\n",
        "G.add_edge('G','K',weight=1)\n",
        "G.add_edge('K','Z',weight=5)\n",
        "\n",
        "path = nx.astar_path(G,'A','Z',weight ='weight')\n",
        "display(path)\n",
        "nx.draw(G,with_labels='true')"
      ],
      "metadata": {
        "colab": {
          "base_uri": "https://localhost:8080/",
          "height": 336
        },
        "id": "aBJSfm-Fo2Sw",
        "outputId": "ec084626-51fe-4d7f-bbae-dae1c262ce7a"
      },
      "execution_count": 5,
      "outputs": [
        {
          "output_type": "display_data",
          "data": {
            "text/plain": [
              "['A', 'B', 'F', 'G', 'K', 'Z']"
            ]
          },
          "metadata": {}
        },
        {
          "output_type": "display_data",
          "data": {
            "text/plain": [
              "<Figure size 432x288 with 1 Axes>"
            ],
            "image/png": "[encoded data removed]"
          },
          "metadata": {}
        }
      ]
    }
  ]
}