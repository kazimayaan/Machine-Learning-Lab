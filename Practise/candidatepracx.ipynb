{
  "nbformat": 4,
  "nbformat_minor": 0,
  "metadata": {
    "colab": {
      "provenance": [],
      "authorship_tag": "ABX9TyNkWoRestcWuqX1dh308wb0",
      "include_colab_link": true
    },
    "kernelspec": {
      "name": "python3",
      "display_name": "Python 3"
    },
    "language_info": {
      "name": "python"
    }
  },
  "cells": [
    {
      "cell_type": "markdown",
      "metadata": {
        "id": "view-in-github",
        "colab_type": "text"
      },
      "source": [
        "<a href=\"https://colab.research.google.com/github/kazimayaan/Machine-Learning-Lab/blob/main/candidatepracx.ipynb\" target=\"_parent\"><img src=\"https://colab.research.google.com/assets/colab-badge.svg\" alt=\"Open In Colab\"/></a>"
      ]
    },
    {
      "cell_type": "code",
      "execution_count": 1,
      "metadata": {
        "id": "ayqXY47sFeMc"
      },
      "outputs": [],
      "source": [
        "import csv"
      ]
    },
    {
      "cell_type": "code",
      "source": [
        "file = '/content/trainingex.csv'\n",
        "fd = csv.reader(open(file))\n",
        "\n",
        "specx= []\n",
        "posex = []\n",
        "negex = []\n",
        "\n",
        "\n",
        "print(\"the training examples are:\")\n",
        "\n",
        "for line in fd:\n",
        "  print(line)\n",
        "  if line[-1]=='Yes':\n",
        "    posex.append(line)\n",
        "  elif line[-1]=='No':\n",
        "    negex.append(line)\n",
        "\n",
        "print()\n",
        "print()\n",
        "print(\"The positive examples are:\")\n",
        "display(posex)\n",
        "print()\n",
        "print()\n",
        "print(\"the negative examples are \")\n",
        "print(negex)\n",
        "\n",
        "row = len(posex)\n",
        "col = len(posex[0])\n",
        "\n",
        "for i in range(col-1):\n",
        "  specx.append(posex[0][i])\n",
        "\n",
        "for i in range(row):\n",
        "  for j in range(col-1):\n",
        "    if specx[j]!=posex[i][j]:\n",
        "      specx[j]='?'\n",
        "\n",
        "print()\n",
        "print(\"The Most specific hypothesis is:\")\n",
        "display(specx)\n",
        "print()\n",
        "print()\n",
        "row = len(negex)\n",
        "col= len(negex[0])\n",
        "\n",
        "for i in range(row):\n",
        "  for j in range(col-1):\n",
        "    gen = ['?','?','?','?','?','?']\n",
        "    if specx[j]!=negex[i][j]:\n",
        "      gen[j]=specx[j]\n",
        "      print(gen)"
      ],
      "metadata": {
        "colab": {
          "base_uri": "https://localhost:8080/",
          "height": 468
        },
        "id": "U6pfyxBTFhea",
        "outputId": "25dc6f30-c9e4-4dba-8ce1-2b3e2c1ddab2"
      },
      "execution_count": 18,
      "outputs": [
        {
          "output_type": "stream",
          "name": "stdout",
          "text": [
            "the training examples are:\n",
            "['sky', 'airtemp', 'humidity', 'wind', 'water', 'forcast', 'enjoysport']\n",
            "['Sunny', 'Warm', 'Normal', 'Strong', 'Warm', 'Same', 'Yes']\n",
            "['Sunny', 'Warm', 'High', 'Strong', 'Warm', 'Same', 'Yes']\n",
            "['Rainy', 'Cold', 'High', 'Strong', 'Warm', 'Change', 'No']\n",
            "['Sunny', 'Warm', 'High', 'Strong', 'Cool', 'Change', 'Yes']\n",
            "\n",
            "\n",
            "The positive examples are:\n"
          ]
        },
        {
          "output_type": "display_data",
          "data": {
            "text/plain": [
              "[['Sunny', 'Warm', 'Normal', 'Strong', 'Warm', 'Same', 'Yes'],\n",
              " ['Sunny', 'Warm', 'High', 'Strong', 'Warm', 'Same', 'Yes'],\n",
              " ['Sunny', 'Warm', 'High', 'Strong', 'Cool', 'Change', 'Yes']]"
            ]
          },
          "metadata": {}
        },
        {
          "output_type": "stream",
          "name": "stdout",
          "text": [
            "\n",
            "\n",
            "the negative examples are \n",
            "[['Rainy', 'Cold', 'High', 'Strong', 'Warm', 'Change', 'No']]\n",
            "\n",
            "The Most specific hypothesis is:\n"
          ]
        },
        {
          "output_type": "display_data",
          "data": {
            "text/plain": [
              "['Sunny', 'Warm', '?', 'Strong', '?', '?']"
            ]
          },
          "metadata": {}
        },
        {
          "output_type": "stream",
          "name": "stdout",
          "text": [
            "\n",
            "\n",
            "['Sunny', '?', '?', '?', '?', '?']\n",
            "['?', 'Warm', '?', '?', '?', '?']\n",
            "['?', '?', '?', '?', '?', '?']\n",
            "['?', '?', '?', '?', '?', '?']\n",
            "['?', '?', '?', '?', '?', '?']\n"
          ]
        }
      ]
    }
  ]
}