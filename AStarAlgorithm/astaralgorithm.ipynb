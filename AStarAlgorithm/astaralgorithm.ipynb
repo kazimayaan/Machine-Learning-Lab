{
  "nbformat": 4,
  "nbformat_minor": 0,
  "metadata": {
    "colab": {
      "provenance": [],
      "authorship_tag": "ABX9TyMJgkXQ6gK/FkptnLa6TD53",
      "include_colab_link": true
    },
    "kernelspec": {
      "name": "python3",
      "display_name": "Python 3"
    },
    "language_info": {
      "name": "python"
    }
  },
  "cells": [
    {
      "cell_type": "markdown",
      "metadata": {
        "id": "view-in-github",
        "colab_type": "text"
      },
      "source": [
        "<a href=\"https://colab.research.google.com/github/kazimayaan/Machine-Learning-Lab/blob/main/astaralgorithm.ipynb\" target=\"_parent\"><img src=\"https://colab.research.google.com/assets/colab-badge.svg\" alt=\"Open In Colab\"/></a>"
      ]
    },
    {
      "cell_type": "code",
      "execution_count": 13,
      "metadata": {
        "id": "4p9H0egcByqG"
      },
      "outputs": [],
      "source": []
    },
    {
      "cell_type": "code",
      "source": [
        "import networkx as nx\n",
        "\n",
        "# Create an instance of a Graph object\n",
        "G = nx.Graph()\n",
        "\n",
        "# Add edges to the graph with associated weights (representing the cost to traverse the edge)\n",
        "G.add_edge('A', 'B', weight=6)\n",
        "G.add_edge('A', 'F', weight=3)\n",
        "\n",
        "G.add_edge('B', 'C', weight=3)\n",
        "G.add_edge('B', 'D', weight=2)\n",
        "G.add_edge('C', 'D', weight=1)\n",
        "G.add_edge('C', 'E', weight=5)\n",
        "G.add_edge('D', 'C', weight=1)\n",
        "G.add_edge('D', 'E', weight=8)\n",
        "G.add_edge('E', 'I', weight=5)\n",
        "G.add_edge('E', 'J', weight=5)\n",
        "G.add_edge('F', 'G', weight=1)\n",
        "G.add_edge('F', 'H', weight=7)\n",
        "G.add_edge('G', 'I', weight=3)\n",
        "G.add_edge('H', 'I', weight=2)\n",
        "G.add_edge('I', 'E', weight=5)\n",
        "G.add_edge('I', 'J', weight=3)\n",
        "\n",
        "# Define the start and goal nodes\n",
        "start = 'A'\n",
        "goal = 'J'\n",
        "\n",
        "# Use the `astar_path` function to find the shortest path between the start and goal nodes\n",
        "path = nx.astar_path(G, start, goal, weight='weight')\n",
        "\n",
        "print(path)  # Output: ['A', 'B', 'F', 'G', 'C', 'H']"
      ],
      "metadata": {
        "colab": {
          "base_uri": "https://localhost:8080/"
        },
        "id": "HBTygM6BEMQb",
        "outputId": "6e6fd037-0f36-4395-a89e-4f0a1bd3cdbd"
      },
      "execution_count": 24,
      "outputs": [
        {
          "output_type": "stream",
          "name": "stdout",
          "text": [
            "['A', 'F', 'G', 'I', 'J']\n"
          ]
        }
      ]
    }
  ]
}