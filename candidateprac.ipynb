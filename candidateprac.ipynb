{
  "nbformat": 4,
  "nbformat_minor": 0,
  "metadata": {
    "colab": {
      "provenance": [],
      "authorship_tag": "ABX9TyPV/xq3+EwhuheLSr5OVu3U",
      "include_colab_link": true
    },
    "kernelspec": {
      "name": "python3",
      "display_name": "Python 3"
    },
    "language_info": {
      "name": "python"
    }
  },
  "cells": [
    {
      "cell_type": "markdown",
      "metadata": {
        "id": "view-in-github",
        "colab_type": "text"
      },
      "source": [
        "<a href=\"https://colab.research.google.com/github/kazimayaan/Machine-Learning-Lab/blob/main/candidateprac.ipynb\" target=\"_parent\"><img src=\"https://colab.research.google.com/assets/colab-badge.svg\" alt=\"Open In Colab\"/></a>"
      ]
    },
    {
      "cell_type": "code",
      "execution_count": 1,
      "metadata": {
        "id": "25i1pAaewDZS"
      },
      "outputs": [],
      "source": [
        "import csv"
      ]
    },
    {
      "cell_type": "code",
      "source": [
        "file = \"/content/trainingex.csv\"\n",
        "fd = csv.reader(open(file))\n",
        "spec=[]\n",
        "posex=[]\n",
        "negex=[]\n",
        "print(\"-----------The given training examples are--------------\")\n",
        "for line in fd:\n",
        "  print(line)\n",
        "  if line[-1]=='Yes':\n",
        "    posex.append(line)\n",
        "  elif line[-1]=='No':\n",
        "    negex.append(line)\n",
        "\n",
        "print()\n",
        "print(\"----------Positive Examples are-------------\")\n",
        "display(posex)\n",
        "print()\n",
        "print(\"----------Negative Examples are-------------\")\n",
        "display(negex)\n",
        "print()\n",
        "row = len(posex)\n",
        "col = len(posex[0])\n",
        "for i in range(col-1):\n",
        "  spec.append(posex[0][i])\n",
        "# display(spec)\n",
        "for i in range(row):\n",
        "  for j in range(col-1):\n",
        "    if spec[j]!=posex[i][j]:\n",
        "      spec[j]='?'\n",
        "print()\n",
        "print(\"------------The most specific hypothesis is----------\")\n",
        "display(spec)\n",
        "print()\n",
        "print(\"-------------The General Hypothesis are--------------\")\n",
        "row = len(negex)\n",
        "col = len(negex[0])\n",
        "\n",
        "for i in range(row):\n",
        "  for j in range(col-1):\n",
        "    gen = ['?','?','?','?','?','?']\n",
        "    if spec[j]!=negex[i][j]:\n",
        "      gen[j]=spec[j]\n",
        "      display(gen)\n"
      ],
      "metadata": {
        "colab": {
          "base_uri": "https://localhost:8080/",
          "height": 451
        },
        "id": "pjEKOE7ywId0",
        "outputId": "4dcc5c98-60ce-4efa-d7d0-95bb005c2dca"
      },
      "execution_count": 14,
      "outputs": [
        {
          "output_type": "stream",
          "name": "stdout",
          "text": [
            "-----------The given training examples are--------------\n",
            "['sky', 'airtemp', 'humidity', 'wind', 'water', 'forcast', 'enjoysport']\n",
            "['Sunny', 'Warm', 'Normal', 'Strong', 'Warm', 'Same', 'Yes']\n",
            "['Sunny', 'Warm', 'High', 'Strong', 'Warm', 'Same', 'Yes']\n",
            "['Rainy', 'Cold', 'High', 'Strong', 'Warm', 'Change', 'No']\n",
            "['Sunny', 'Warm', 'High', 'Strong', 'Cool', 'Change', 'Yes']\n",
            "\n",
            "----------Positive Examples are-------------\n"
          ]
        },
        {
          "output_type": "display_data",
          "data": {
            "text/plain": [
              "[['Sunny', 'Warm', 'Normal', 'Strong', 'Warm', 'Same', 'Yes'],\n",
              " ['Sunny', 'Warm', 'High', 'Strong', 'Warm', 'Same', 'Yes'],\n",
              " ['Sunny', 'Warm', 'High', 'Strong', 'Cool', 'Change', 'Yes']]"
            ]
          },
          "metadata": {}
        },
        {
          "output_type": "stream",
          "name": "stdout",
          "text": [
            "\n",
            "----------Negative Examples are-------------\n"
          ]
        },
        {
          "output_type": "display_data",
          "data": {
            "text/plain": [
              "[['Rainy', 'Cold', 'High', 'Strong', 'Warm', 'Change', 'No']]"
            ]
          },
          "metadata": {}
        },
        {
          "output_type": "stream",
          "name": "stdout",
          "text": [
            "\n",
            "\n",
            "------------The most specific hypothesis is----------\n"
          ]
        },
        {
          "output_type": "display_data",
          "data": {
            "text/plain": [
              "['Sunny', 'Warm', '?', 'Strong', '?', '?']"
            ]
          },
          "metadata": {}
        },
        {
          "output_type": "stream",
          "name": "stdout",
          "text": [
            "\n",
            "-------------The General Hypothesis are--------------\n"
          ]
        },
        {
          "output_type": "display_data",
          "data": {
            "text/plain": [
              "['Sunny', '?', '?', '?', '?', '?']"
            ]
          },
          "metadata": {}
        },
        {
          "output_type": "display_data",
          "data": {
            "text/plain": [
              "['?', 'Warm', '?', '?', '?', '?']"
            ]
          },
          "metadata": {}
        },
        {
          "output_type": "display_data",
          "data": {
            "text/plain": [
              "['?', '?', '?', '?', '?', '?']"
            ]
          },
          "metadata": {}
        },
        {
          "output_type": "display_data",
          "data": {
            "text/plain": [
              "['?', '?', '?', '?', '?', '?']"
            ]
          },
          "metadata": {}
        },
        {
          "output_type": "display_data",
          "data": {
            "text/plain": [
              "['?', '?', '?', '?', '?', '?']"
            ]
          },
          "metadata": {}
        }
      ]
    }
  ]
}