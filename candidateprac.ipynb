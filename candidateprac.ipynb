{
  "nbformat": 4,
  "nbformat_minor": 0,
  "metadata": {
    "colab": {
      "provenance": [],
      "authorship_tag": "ABX9TyN8+CxTNEAZ3PYAKTN2NwdD",
      "include_colab_link": true
    },
    "kernelspec": {
      "name": "python3",
      "display_name": "Python 3"
    },
    "language_info": {
      "name": "python"
    }
  },
  "cells": [
    {
      "cell_type": "markdown",
      "metadata": {
        "id": "view-in-github",
        "colab_type": "text"
      },
      "source": [
        "<a href=\"https://colab.research.google.com/github/kazimayaan/Machine-Learning-Lab/blob/main/candidateprac.ipynb\" target=\"_parent\"><img src=\"https://colab.research.google.com/assets/colab-badge.svg\" alt=\"Open In Colab\"/></a>"
      ]
    },
    {
      "cell_type": "code",
      "execution_count": 1,
      "metadata": {
        "id": "URNhUZQbICse"
      },
      "outputs": [],
      "source": [
        "import csv"
      ]
    },
    {
      "cell_type": "code",
      "source": [
        "def main():\n",
        "  spec=[]\n",
        "  posex=[]\n",
        "  negex=[]\n",
        "  \n",
        "  file=\"/content/trainingex.csv\"\n",
        "  fd = csv.reader(open(file))\n",
        "  print(\"--------The Given Training Examples Are------\")\n",
        "  for line in fd:\n",
        "    display(line)\n",
        "    if line[-1]=='Yes':\n",
        "      posex.append(line)\n",
        "    elif line[-1]=='No':\n",
        "      negex.append(line)\n",
        "\n",
        "  row=len(posex)\n",
        "  col=len(posex[0])\n",
        "\n",
        "\n",
        "  for i in range(col-1):\n",
        "    spec.append(posex[0][i])\n",
        "\n",
        "  for i in range(row):\n",
        "    for j in range(col-1):\n",
        "      if spec[j]!=posex[i][j]:\n",
        "        spec[j]='?'\n",
        "\n",
        "  print(\"\\n---------The most specific hypothesis is-------------\")\n",
        "  display(spec)\n",
        "\n",
        "  row = len(negex)\n",
        "  col = len(negex[0])\n",
        "  # display(row,col)\n",
        "\n",
        "  print(\"\\n---------The general hypothesis are-------------\\n\")\n",
        "  for i in range(row):\n",
        "    for j in range(col-1):\n",
        "      gen = ['?','?','?','?','?','?']\n",
        "      if spec[j]!=negex[i][j]:\n",
        "        gen[j]=spec[j]\n",
        "        display(gen)\n",
        "\n",
        "\n",
        "\n",
        "\n",
        "\n",
        "\n",
        "  "
      ],
      "metadata": {
        "id": "4tUCsXvfIaPa"
      },
      "execution_count": 15,
      "outputs": []
    },
    {
      "cell_type": "code",
      "source": [
        "main()"
      ],
      "metadata": {
        "colab": {
          "base_uri": "https://localhost:8080/",
          "height": 347
        },
        "id": "KHhSp7U9J6Ov",
        "outputId": "f3f52805-3094-4ed4-feb6-16bef506a47f"
      },
      "execution_count": 16,
      "outputs": [
        {
          "output_type": "stream",
          "name": "stdout",
          "text": [
            "--------The Given Training Examples Are------\n"
          ]
        },
        {
          "output_type": "display_data",
          "data": {
            "text/plain": [
              "['sky', 'airtemp', 'humidity', 'wind', 'water', 'forcast', 'enjoysport']"
            ]
          },
          "metadata": {}
        },
        {
          "output_type": "display_data",
          "data": {
            "text/plain": [
              "['Sunny', 'Warm', 'Normal', 'Strong', 'Warm', 'Same', 'Yes']"
            ]
          },
          "metadata": {}
        },
        {
          "output_type": "display_data",
          "data": {
            "text/plain": [
              "['Sunny', 'Warm', 'High', 'Strong', 'Warm', 'Same', 'Yes']"
            ]
          },
          "metadata": {}
        },
        {
          "output_type": "display_data",
          "data": {
            "text/plain": [
              "['Rainy', 'Cold', 'High', 'Strong', 'Warm', 'Change', 'No']"
            ]
          },
          "metadata": {}
        },
        {
          "output_type": "display_data",
          "data": {
            "text/plain": [
              "['Sunny', 'Warm', 'High', 'Strong', 'Cool', 'Change', 'Yes']"
            ]
          },
          "metadata": {}
        },
        {
          "output_type": "stream",
          "name": "stdout",
          "text": [
            "\n",
            "---------The most specific hypothesis is-------------\n"
          ]
        },
        {
          "output_type": "display_data",
          "data": {
            "text/plain": [
              "['Sunny', 'Warm', '?', 'Strong', '?', '?']"
            ]
          },
          "metadata": {}
        },
        {
          "output_type": "display_data",
          "data": {
            "text/plain": [
              "1"
            ]
          },
          "metadata": {}
        },
        {
          "output_type": "display_data",
          "data": {
            "text/plain": [
              "7"
            ]
          },
          "metadata": {}
        },
        {
          "output_type": "stream",
          "name": "stdout",
          "text": [
            "\n",
            "---------The general hypothesis are-------------\n",
            "\n"
          ]
        },
        {
          "output_type": "display_data",
          "data": {
            "text/plain": [
              "['Sunny', '?', '?', '?', '?', '?']"
            ]
          },
          "metadata": {}
        },
        {
          "output_type": "display_data",
          "data": {
            "text/plain": [
              "['?', 'Warm', '?', '?', '?', '?']"
            ]
          },
          "metadata": {}
        },
        {
          "output_type": "display_data",
          "data": {
            "text/plain": [
              "['?', '?', '?', '?', '?', '?']"
            ]
          },
          "metadata": {}
        },
        {
          "output_type": "display_data",
          "data": {
            "text/plain": [
              "['?', '?', '?', '?', '?', '?']"
            ]
          },
          "metadata": {}
        },
        {
          "output_type": "display_data",
          "data": {
            "text/plain": [
              "['?', '?', '?', '?', '?', '?']"
            ]
          },
          "metadata": {}
        }
      ]
    }
  ]
}