{
  "nbformat": 4,
  "nbformat_minor": 0,
  "metadata": {
    "colab": {
      "provenance": [],
      "authorship_tag": "ABX9TyM4f0ytYedcKzrCFJw8cviP",
      "include_colab_link": true
    },
    "kernelspec": {
      "name": "python3",
      "display_name": "Python 3"
    },
    "language_info": {
      "name": "python"
    }
  },
  "cells": [
    {
      "cell_type": "markdown",
      "metadata": {
        "id": "view-in-github",
        "colab_type": "text"
      },
      "source": [
        "<a href=\"https://colab.research.google.com/github/kazimayaan/Machine-Learning-Lab/blob/main/candidatepractisel_.ipynb\" target=\"_parent\"><img src=\"https://colab.research.google.com/assets/colab-badge.svg\" alt=\"Open In Colab\"/></a>"
      ]
    },
    {
      "cell_type": "code",
      "execution_count": 1,
      "metadata": {
        "id": "GGl2I6on1oWh"
      },
      "outputs": [],
      "source": [
        "import csv"
      ]
    },
    {
      "cell_type": "code",
      "source": [
        "spec= []\n",
        "negex = []\n",
        "posex = []\n",
        "\n",
        "file ='/content/trainingex.csv'\n",
        "fd = csv.reader(open(file))\n",
        "print('traininf examples are')\n",
        "for line in fd:\n",
        "  print(line)\n",
        "  if line[-1]=='Yes':\n",
        "    posex.append(line)\n",
        "  if line[-1]=='No':\n",
        "    negex.append(line)\n",
        "\n",
        "print('posex are')\n",
        "display(posex)\n",
        "print()\n",
        "print()\n",
        "print(\"negex are\")\n",
        "display(negex)\n",
        "\n",
        "print()\n",
        "row = len(posex)\n",
        "col = len(posex[0])\n",
        "\n",
        "for i in range(col-1):\n",
        "  spec.append(posex[0][i])\n",
        "\n",
        "# display(spec)\n",
        "\n",
        "for i in range(row):\n",
        "  for j in range(col-1):\n",
        "    if spec[j]!=posex[i][j]:\n",
        "      spec[j]='?'\n",
        "\n",
        "print('most specific hypo')\n",
        "display(spec)\n",
        "\n",
        "row = len(negex)\n",
        "\n",
        "print()\n",
        "print()\n",
        "print('general hypiothesis is')\n",
        "for i in range(row):\n",
        "  for j in range(col-1):\n",
        "    g = ['?','?','?','?','?','?']\n",
        "    if spec[j]!=negex[i][j]:\n",
        "      g[j]=spec[j]\n",
        "      print(g)"
      ],
      "metadata": {
        "colab": {
          "base_uri": "https://localhost:8080/",
          "height": 451
        },
        "id": "5l-goIsY1pzX",
        "outputId": "8cf5211a-4054-4b92-f3b8-739e221410ee"
      },
      "execution_count": 9,
      "outputs": [
        {
          "output_type": "stream",
          "name": "stdout",
          "text": [
            "traininf examples are\n",
            "['sky', 'airtemp', 'humidity', 'wind', 'water', 'forcast', 'enjoysport']\n",
            "['Sunny', 'Warm', 'Normal', 'Strong', 'Warm', 'Same', 'Yes']\n",
            "['Sunny', 'Warm', 'High', 'Strong', 'Warm', 'Same', 'Yes']\n",
            "['Rainy', 'Cold', 'High', 'Strong', 'Warm', 'Change', 'No']\n",
            "['Sunny', 'Warm', 'High', 'Strong', 'Cool', 'Change', 'Yes']\n",
            "posex are\n"
          ]
        },
        {
          "output_type": "display_data",
          "data": {
            "text/plain": [
              "[['Sunny', 'Warm', 'Normal', 'Strong', 'Warm', 'Same', 'Yes'],\n",
              " ['Sunny', 'Warm', 'High', 'Strong', 'Warm', 'Same', 'Yes'],\n",
              " ['Sunny', 'Warm', 'High', 'Strong', 'Cool', 'Change', 'Yes']]"
            ]
          },
          "metadata": {}
        },
        {
          "output_type": "stream",
          "name": "stdout",
          "text": [
            "\n",
            "\n",
            "negex are\n"
          ]
        },
        {
          "output_type": "display_data",
          "data": {
            "text/plain": [
              "[['Rainy', 'Cold', 'High', 'Strong', 'Warm', 'Change', 'No']]"
            ]
          },
          "metadata": {}
        },
        {
          "output_type": "stream",
          "name": "stdout",
          "text": [
            "\n",
            "most specific hypo\n"
          ]
        },
        {
          "output_type": "display_data",
          "data": {
            "text/plain": [
              "['Sunny', 'Warm', '?', 'Strong', '?', '?']"
            ]
          },
          "metadata": {}
        },
        {
          "output_type": "stream",
          "name": "stdout",
          "text": [
            "\n",
            "\n",
            "general hypiothesis is\n",
            "['Sunny', '?', '?', '?', '?', '?']\n",
            "['?', 'Warm', '?', '?', '?', '?']\n",
            "['?', '?', '?', '?', '?', '?']\n",
            "['?', '?', '?', '?', '?', '?']\n",
            "['?', '?', '?', '?', '?', '?']\n"
          ]
        }
      ]
    }
  ]
}