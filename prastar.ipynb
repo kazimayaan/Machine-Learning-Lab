{
  "nbformat": 4,
  "nbformat_minor": 0,
  "metadata": {
    "colab": {
      "provenance": [],
      "authorship_tag": "ABX9TyPor/QcWogS2NK/hJCMPAQx",
      "include_colab_link": true
    },
    "kernelspec": {
      "name": "python3",
      "display_name": "Python 3"
    },
    "language_info": {
      "name": "python"
    }
  },
  "cells": [
    {
      "cell_type": "markdown",
      "metadata": {
        "id": "view-in-github",
        "colab_type": "text"
      },
      "source": [
        "<a href=\"https://colab.research.google.com/github/kazimayaan/Machine-Learning-Lab/blob/main/prastar.ipynb\" target=\"_parent\"><img src=\"https://colab.research.google.com/assets/colab-badge.svg\" alt=\"Open In Colab\"/></a>"
      ]
    },
    {
      "cell_type": "code",
      "execution_count": 17,
      "metadata": {
        "id": "CUa72wCPvP0m"
      },
      "outputs": [],
      "source": [
        "def Astaralgo(startnode,stopnode):\n",
        "  openset = set(startnode)\n",
        "  closedset = set()\n",
        "  g = {}\n",
        "  parents = {}\n",
        "  g[startnode] = 0\n",
        "  parents[startnode] = startnode\n",
        "\n",
        "  while len(openset)>0:\n",
        "    n = None\n",
        "    for v in openset:\n",
        "      if n == None or g[v]+h(v)<g[n]+h(n):\n",
        "        n = v\n",
        "    if n==stopnode or n ==None:\n",
        "      pass\n",
        "    else:\n",
        "      for (m,weight) in getneighbours(n):\n",
        "        if m not in openset and m not in closedset:\n",
        "          openset.add(m)\n",
        "          parents[m] = n\n",
        "          g[m] = g[n]+weight\n",
        "\n",
        "        else:\n",
        "          if g[m]> g[n]+weight:\n",
        "            g[m] = g[n]+weight\n",
        "            parents[m] = n\n",
        "            if m in closedset:\n",
        "              closedset.remove(m)\n",
        "              openset.add(m)\n",
        "    if n == None:\n",
        "      return None\n",
        "    if n == stopnode:\n",
        "      path = []\n",
        "      while parents[n]!=n:\n",
        "        path.append(n)\n",
        "        n = parents[n]\n",
        "\n",
        "      path.append(startnode)\n",
        "      path.reverse()\n",
        "      print(path)\n",
        "      return path\n",
        "\n",
        "    openset.remove(n)\n",
        "    closedset.add(n)\n",
        "  \n",
        "  print('path doesnt exist')\n",
        "  return None\n",
        "\n",
        "\n",
        "  \n",
        "\n",
        "\n"
      ]
    },
    {
      "cell_type": "code",
      "source": [
        "def getneighbours(v):\n",
        "  if v in graph:\n",
        "    return graph[v]\n",
        "  else:\n",
        "    return None\n",
        "\n",
        "def h(n):\n",
        "  h = {\n",
        "      'A':10,\n",
        "       'B':8,\n",
        "       'C':6,\n",
        "       'D':0\n",
        "  }\n",
        "  return h[n]\n",
        "\n",
        "graph = {\n",
        "    'A':[('B',4),('C',7)],\n",
        "    'B':[('C',5)],\n",
        "    'C':[('D',3)]\n",
        "}\n",
        "Astaralgo('A','D')"
      ],
      "metadata": {
        "colab": {
          "base_uri": "https://localhost:8080/"
        },
        "id": "VYRJWzLjvXW5",
        "outputId": "df8d9e9b-6f48-4215-edc2-7709de9b425d"
      },
      "execution_count": 18,
      "outputs": [
        {
          "output_type": "stream",
          "name": "stdout",
          "text": [
            "['A', 'C', 'D']\n"
          ]
        },
        {
          "output_type": "execute_result",
          "data": {
            "text/plain": [
              "['A', 'C', 'D']"
            ]
          },
          "metadata": {},
          "execution_count": 18
        }
      ]
    }
  ]
}