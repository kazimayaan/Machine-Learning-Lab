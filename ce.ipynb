{
  "nbformat": 4,
  "nbformat_minor": 0,
  "metadata": {
    "colab": {
      "provenance": [],
      "authorship_tag": "ABX9TyMzkX69+iX+TR4OEzQG7Kwy",
      "include_colab_link": true
    },
    "kernelspec": {
      "name": "python3",
      "display_name": "Python 3"
    },
    "language_info": {
      "name": "python"
    }
  },
  "cells": [
    {
      "cell_type": "markdown",
      "metadata": {
        "id": "view-in-github",
        "colab_type": "text"
      },
      "source": [
        "<a href=\"https://colab.research.google.com/github/kazimayaan/Machine-Learning-Lab/blob/main/ce.ipynb\" target=\"_parent\"><img src=\"https://colab.research.google.com/assets/colab-badge.svg\" alt=\"Open In Colab\"/></a>"
      ]
    },
    {
      "cell_type": "code",
      "execution_count": 1,
      "metadata": {
        "id": "XWk1IlnG_Mk9"
      },
      "outputs": [],
      "source": [
        "import csv"
      ]
    },
    {
      "cell_type": "code",
      "source": [
        "file = \"/content/trainingex.csv\"\n",
        "spec = []\n",
        "posex = []\n",
        "negex = []\n",
        "\n",
        "fd = csv.reader(open(file))\n",
        "print(\"data given is\")\n",
        "for line in fd:\n",
        "  print(line)\n",
        "  if line[-1]=='Yes':\n",
        "    posex.append(line)\n",
        "  elif line[-1]=='No':\n",
        "    negex.append(line)\n",
        "\n",
        "print(\"positive examples are\")\n",
        "display(posex)\n",
        "\n",
        "print(\"---------------------\")\n",
        "print(\"negative examples are\")\n",
        "display(negex)\n",
        "\n",
        "print()\n",
        "print(\"---------------------\")\n",
        "\n",
        "row = len(posex)\n",
        "col = len(posex[0])\n",
        "\n",
        "for i in range(col-1):\n",
        "  spec.append(posex[0][i])\n",
        "\n",
        "\n",
        "for i in range(row):\n",
        "  for j in range(col-1):\n",
        "    if spec[j]!=posex[i][j]:\n",
        "      spec[j]='?'\n",
        "\n",
        "print(\"the spec hypo is\")\n",
        "display(spec)\n",
        "print(\"---------------------\")\n",
        "\n",
        "row = len(negex)\n",
        "print(\"general hypo is\")\n",
        "for i in range(row):\n",
        "  for j in range(col-1):\n",
        "    gen = ['?','?','?','?','?','?']\n",
        "    if negex[i][j]!=spec[j]:\n",
        "      gen[j]=spec[j]\n",
        "      display(gen)\n",
        "\n",
        "\n",
        "\n",
        "\n"
      ],
      "metadata": {
        "colab": {
          "base_uri": "https://localhost:8080/",
          "height": 434
        },
        "id": "lxoqzqNS_zW4",
        "outputId": "2939b564-7586-40c9-f1e3-aae437bd5573"
      },
      "execution_count": 9,
      "outputs": [
        {
          "output_type": "stream",
          "name": "stdout",
          "text": [
            "data given is\n",
            "['sky', 'airtemp', 'humidity', 'wind', 'water', 'forcast', 'enjoysport']\n",
            "['Sunny', 'Warm', 'Normal', 'Strong', 'Warm', 'Same', 'Yes']\n",
            "['Sunny', 'Warm', 'High', 'Strong', 'Warm', 'Same', 'Yes']\n",
            "['Rainy', 'Cold', 'High', 'Strong', 'Warm', 'Change', 'No']\n",
            "['Sunny', 'Warm', 'High', 'Strong', 'Cool', 'Change', 'Yes']\n",
            "positive examples are\n"
          ]
        },
        {
          "output_type": "display_data",
          "data": {
            "text/plain": [
              "[['Sunny', 'Warm', 'Normal', 'Strong', 'Warm', 'Same', 'Yes'],\n",
              " ['Sunny', 'Warm', 'High', 'Strong', 'Warm', 'Same', 'Yes'],\n",
              " ['Sunny', 'Warm', 'High', 'Strong', 'Cool', 'Change', 'Yes']]"
            ]
          },
          "metadata": {}
        },
        {
          "output_type": "stream",
          "name": "stdout",
          "text": [
            "---------------------\n",
            "negative examples are\n"
          ]
        },
        {
          "output_type": "display_data",
          "data": {
            "text/plain": [
              "[['Rainy', 'Cold', 'High', 'Strong', 'Warm', 'Change', 'No']]"
            ]
          },
          "metadata": {}
        },
        {
          "output_type": "stream",
          "name": "stdout",
          "text": [
            "\n",
            "---------------------\n",
            "the spec hypo is\n"
          ]
        },
        {
          "output_type": "display_data",
          "data": {
            "text/plain": [
              "['Sunny', 'Warm', '?', 'Strong', '?', '?']"
            ]
          },
          "metadata": {}
        },
        {
          "output_type": "stream",
          "name": "stdout",
          "text": [
            "---------------------\n",
            "general hypo is\n"
          ]
        },
        {
          "output_type": "display_data",
          "data": {
            "text/plain": [
              "['Sunny', '?', '?', '?', '?', '?']"
            ]
          },
          "metadata": {}
        },
        {
          "output_type": "display_data",
          "data": {
            "text/plain": [
              "['?', 'Warm', '?', '?', '?', '?']"
            ]
          },
          "metadata": {}
        },
        {
          "output_type": "display_data",
          "data": {
            "text/plain": [
              "['?', '?', '?', '?', '?', '?']"
            ]
          },
          "metadata": {}
        },
        {
          "output_type": "display_data",
          "data": {
            "text/plain": [
              "['?', '?', '?', '?', '?', '?']"
            ]
          },
          "metadata": {}
        },
        {
          "output_type": "display_data",
          "data": {
            "text/plain": [
              "['?', '?', '?', '?', '?', '?']"
            ]
          },
          "metadata": {}
        }
      ]
    }
  ]
}