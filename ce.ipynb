{
  "nbformat": 4,
  "nbformat_minor": 0,
  "metadata": {
    "colab": {
      "provenance": [],
      "authorship_tag": "ABX9TyNc93zV5BLiLlATc1mULBhY",
      "include_colab_link": true
    },
    "kernelspec": {
      "name": "python3",
      "display_name": "Python 3"
    },
    "language_info": {
      "name": "python"
    }
  },
  "cells": [
    {
      "cell_type": "markdown",
      "metadata": {
        "id": "view-in-github",
        "colab_type": "text"
      },
      "source": [
        "<a href=\"https://colab.research.google.com/github/kazimayaan/Machine-Learning-Lab/blob/main/ce.ipynb\" target=\"_parent\"><img src=\"https://colab.research.google.com/assets/colab-badge.svg\" alt=\"Open In Colab\"/></a>"
      ]
    },
    {
      "cell_type": "code",
      "execution_count": 1,
      "metadata": {
        "id": "SOTFmOJD9IPF"
      },
      "outputs": [],
      "source": [
        "import csv"
      ]
    },
    {
      "cell_type": "code",
      "source": [
        "file = \"/content/trainingex.csv\"\n",
        "fd = csv.reader(open(file))\n",
        "posex = []\n",
        "negex = []\n",
        "spec = []\n",
        "\n",
        "for line in fd:\n",
        "  print(line)\n",
        "  if line[-1]=='Yes':\n",
        "    posex.append(line)\n",
        "  elif line[-1]=='No':\n",
        "    negex.append(line)\n",
        "\n",
        "display(posex)\n",
        "display(negex)\n",
        "\n",
        "row = len(posex)\n",
        "col = len(posex[0])\n",
        "\n",
        "for i in range (col-1):\n",
        "  spec.append(posex[0][i])\n",
        "\n",
        "for i in range(row):\n",
        "  for j in range(col-1):\n",
        "    if spec[j]!=posex[i][j]:\n",
        "      spec[j]='?'\n",
        "\n",
        "display(spec)\n",
        "\n",
        "row = len(negex)\n",
        "for i in range(row):\n",
        "  for j in range(col-1):\n",
        "    gen = ['?','?','?','?','?','?']\n",
        "    if spec[j]!=negex[i][j]:\n",
        "      gen[j] = spec[j]\n",
        "      print(gen)"
      ],
      "metadata": {
        "colab": {
          "base_uri": "https://localhost:8080/",
          "height": 277
        },
        "id": "O7Pmvjbn9OV7",
        "outputId": "1b0eb187-73b7-47ef-9595-147266f60d91"
      },
      "execution_count": 8,
      "outputs": [
        {
          "output_type": "stream",
          "name": "stdout",
          "text": [
            "['sky', 'airtemp', 'humidity', 'wind', 'water', 'forcast', 'enjoysport']\n",
            "['Sunny', 'Warm', 'Normal', 'Strong', 'Warm', 'Same', 'Yes']\n",
            "['Sunny', 'Warm', 'High', 'Strong', 'Warm', 'Same', 'Yes']\n",
            "['Rainy', 'Cold', 'High', 'Strong', 'Warm', 'Change', 'No']\n",
            "['Sunny', 'Warm', 'High', 'Strong', 'Cool', 'Change', 'Yes']\n"
          ]
        },
        {
          "output_type": "display_data",
          "data": {
            "text/plain": [
              "[['Sunny', 'Warm', 'Normal', 'Strong', 'Warm', 'Same', 'Yes'],\n",
              " ['Sunny', 'Warm', 'High', 'Strong', 'Warm', 'Same', 'Yes'],\n",
              " ['Sunny', 'Warm', 'High', 'Strong', 'Cool', 'Change', 'Yes']]"
            ]
          },
          "metadata": {}
        },
        {
          "output_type": "display_data",
          "data": {
            "text/plain": [
              "[['Rainy', 'Cold', 'High', 'Strong', 'Warm', 'Change', 'No']]"
            ]
          },
          "metadata": {}
        },
        {
          "output_type": "display_data",
          "data": {
            "text/plain": [
              "['Sunny', 'Warm', '?', 'Strong', '?', '?']"
            ]
          },
          "metadata": {}
        },
        {
          "output_type": "stream",
          "name": "stdout",
          "text": [
            "['Sunny', '?', '?', '?', '?', '?']\n",
            "['?', 'Warm', '?', '?', '?', '?']\n",
            "['?', '?', '?', '?', '?', '?']\n",
            "['?', '?', '?', '?', '?', '?']\n",
            "['?', '?', '?', '?', '?', '?']\n"
          ]
        }
      ]
    }
  ]
}