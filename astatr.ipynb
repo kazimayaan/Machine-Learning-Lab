{
  "nbformat": 4,
  "nbformat_minor": 0,
  "metadata": {
    "colab": {
      "provenance": [],
      "authorship_tag": "ABX9TyPFqjp33MerF6y2LjK7Ilyw",
      "include_colab_link": true
    },
    "kernelspec": {
      "name": "python3",
      "display_name": "Python 3"
    },
    "language_info": {
      "name": "python"
    }
  },
  "cells": [
    {
      "cell_type": "markdown",
      "metadata": {
        "id": "view-in-github",
        "colab_type": "text"
      },
      "source": [
        "<a href=\"https://colab.research.google.com/github/kazimayaan/Machine-Learning-Lab/blob/main/astatr.ipynb\" target=\"_parent\"><img src=\"https://colab.research.google.com/assets/colab-badge.svg\" alt=\"Open In Colab\"/></a>"
      ]
    },
    {
      "cell_type": "code",
      "execution_count": 1,
      "metadata": {
        "id": "xV_EiMnymJ__"
      },
      "outputs": [],
      "source": [
        "import numpy as np"
      ]
    },
    {
      "cell_type": "code",
      "source": [
        "def AStarAlgo(startnode,stopnode):\n",
        "  openset = set(startnode)\n",
        "  closedset = set()\n",
        "  g = {}\n",
        "  parents = {}\n",
        "  g[startnode] = 0\n",
        "  parents[startnode] = startnode\n",
        "\n",
        "  while len(openset)>0:\n",
        "    n = None\n",
        "\n",
        "    for v in openset:\n",
        "      if n == None or g[v]+heuristic(v)<g[n]+heuristic(n):\n",
        "        n = v;\n",
        "    \n",
        "    if n== stopnode or Graph_nodes[n]==None:\n",
        "      pass\n",
        "    else:\n",
        "      for(m,weight) in get_neighbours(n):\n",
        "        if m not in openset and m not in closedset:\n",
        "          openset.add(m)\n",
        "          parents[m] = n\n",
        "          g[m] = g[n] + weight\n",
        "        else:\n",
        "          if g[m]> g[n]+ weight:\n",
        "            g[m] = g[n] + weight\n",
        "            parents[m] = n\n",
        "\n",
        "            if m in closedset:\n",
        "              closedset.remove(m)\n",
        "              openset.add(m)\n",
        "    if n ==None:\n",
        "      print('path doesnt exist')\n",
        "      return None\n",
        "    if n== stopnode:\n",
        "      path = []\n",
        "      while parents[n]!=n:\n",
        "        path.append(n)\n",
        "        n = parents[n]\n",
        "      path.append(startnode)\n",
        "      path.reverse()\n",
        "      print('path found{}'.format(path))\n",
        "      return path\n",
        "\n",
        "    openset.remove(n)\n",
        "    closedset.add(n)\n",
        "\n",
        "\n",
        "  print('path doesnt exist')\n",
        "  return None\n",
        "\n",
        "\n"
      ],
      "metadata": {
        "id": "-cvhHPdWmNr-"
      },
      "execution_count": 20,
      "outputs": []
    },
    {
      "cell_type": "code",
      "source": [
        "def get_neighbours(v):\n",
        "  if v in Graph_nodes:\n",
        "    return Graph_nodes[v]\n",
        "  else:\n",
        "    return None\n",
        "\n",
        "\n",
        "\n",
        "\n",
        "def heuristic(v):\n",
        "  hval= {\n",
        "        'A': 10,\n",
        "        'B': 8,\n",
        "        'C': 5,\n",
        "        'D': 7,\n",
        "        'E': 3,\n",
        "        'F': 6,\n",
        "        'G': 5,\n",
        "        'H': 3,\n",
        "        'I': 1,\n",
        "        'J': 0\n",
        "  }\n",
        "  return hval[v]\n",
        "\n",
        "Graph_nodes = {\n",
        "    'A': [('B', 6), ('F', 3)],\n",
        "    'B': [('C', 3), ('D', 2)],\n",
        "    'C': [('D', 1), ('E', 5)],\n",
        "    'D': [('C', 1), ('E', 8)],\n",
        "    'E': [('I', 5), ('J', 5)],\n",
        "    'F': [('G', 1),('H', 7)] ,\n",
        "    'G': [('I', 3)],\n",
        "    'H': [('I', 2)],\n",
        "    'I': [('E', 5), ('J', 3)],\n",
        "}\n",
        "AStarAlgo('A','J')"
      ],
      "metadata": {
        "colab": {
          "base_uri": "https://localhost:8080/"
        },
        "id": "TVtoAPTLmvOo",
        "outputId": "1522b654-5ffe-4ca2-cefc-ce131418be1b"
      },
      "execution_count": 21,
      "outputs": [
        {
          "output_type": "stream",
          "name": "stdout",
          "text": [
            "path found['A', 'F', 'G', 'I', 'J']\n"
          ]
        },
        {
          "output_type": "execute_result",
          "data": {
            "text/plain": [
              "['A', 'F', 'G', 'I', 'J']"
            ]
          },
          "metadata": {},
          "execution_count": 21
        }
      ]
    }
  ]
}