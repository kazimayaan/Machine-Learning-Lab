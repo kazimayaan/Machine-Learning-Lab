{
  "nbformat": 4,
  "nbformat_minor": 0,
  "metadata": {
    "colab": {
      "provenance": [],
      "authorship_tag": "ABX9TyOF41vaHhjKdayBeYb5rH8K",
      "include_colab_link": true
    },
    "kernelspec": {
      "name": "python3",
      "display_name": "Python 3"
    },
    "language_info": {
      "name": "python"
    }
  },
  "cells": [
    {
      "cell_type": "markdown",
      "metadata": {
        "id": "view-in-github",
        "colab_type": "text"
      },
      "source": [
        "<a href=\"https://colab.research.google.com/github/kazimayaan/Machine-Learning-Lab/blob/main/lab1.ipynb\" target=\"_parent\"><img src=\"https://colab.research.google.com/assets/colab-badge.svg\" alt=\"Open In Colab\"/></a>"
      ]
    },
    {
      "cell_type": "code",
      "execution_count": 33,
      "metadata": {
        "id": "Vz9YRqf0uXag"
      },
      "outputs": [],
      "source": [
        "import numpy as np\n",
        "import pandas as pd\n",
        "import csv\n",
        "import matplotlib.pyplot as plt"
      ]
    },
    {
      "cell_type": "code",
      "source": [
        "\n",
        "def main():\n",
        "  file = \"/content/car (2).csv\"\n",
        "  temp = pd.read_csv(file)\n",
        "  display(temp)\n",
        "  data=[]\n",
        "  fd=csv.reader(open(file))\n",
        "  for line in fd:\n",
        "    data.append(line)\n",
        "    \n",
        "  DATA= data[1:]\n",
        "  n=len(DATA)\n",
        "  yescount=0\n",
        "  nocount=0\n",
        "  for line in DATA:\n",
        "    if line[-1]=='yes':\n",
        "      yescount+=1\n",
        "    else:\n",
        "      nocount+=1\n",
        "\n",
        "  pyes = yescount/n\n",
        "  pno=nocount/n\n",
        "  print(\"Enter your new car feature color, type, origin\")\n",
        "  x,y,z=input.split()\n",
        "  pxyes,pxno=Bayes(DATA,x,0,yescount,nocount)\n",
        "  pyyes,pyno = Bayes(DATA,y,1,yescount,nocount)\n",
        "  pzyes,pzno = Bayes(DATA,z,2,yescount,nocount)\n",
        "  resyes=pxyes*pyyes*pzyes*pyes\n",
        "  resno = pxno*pyno*pzno*pno\n",
        "  Percentages=((resyes/(yesyes+resno))*100)\n",
        "  Percentagesno=(resno/(resno+resyes))*100\n",
        "  pex=[Percentages,Percentagesno]\n",
        "  label=[\"car_stolen%\",\"car_not_stolen%\"]\n",
        "  plt.pie(pex,labels=label)\n",
        "  plt.show()\n",
        "  print(\"Percentages_yes=\", Percentages,\"Percentage_no=\",Percentageno)\n"
      ],
      "metadata": {
        "id": "kIL1cmBCvAYy"
      },
      "execution_count": 34,
      "outputs": []
    },
    {
      "cell_type": "code",
      "source": [
        "def Bayes(DATA,x,col,yescount,nocount):\n",
        "  xyes=0\n",
        "  xno=0\n",
        "  for line in DATA:\n",
        "    if line[col]==x:\n",
        "      if line[-1]=='yes':\n",
        "        xyes+=1\n",
        "      else:\n",
        "        xno+=1\n",
        "\n",
        "  pxyes=xyes/yescount\n",
        "  pxno=xno/nocount\n",
        "  return pxyes,pxno"
      ],
      "metadata": {
        "id": "5Vjse5hayUMn"
      },
      "execution_count": 35,
      "outputs": []
    }
  ]
}