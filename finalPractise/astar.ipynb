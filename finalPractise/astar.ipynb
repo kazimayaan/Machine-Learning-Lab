{
  "nbformat": 4,
  "nbformat_minor": 0,
  "metadata": {
    "colab": {
      "provenance": [],
      "authorship_tag": "ABX9TyOZ1gfqqgcw3yxn01b5KwSE",
      "include_colab_link": true
    },
    "kernelspec": {
      "name": "python3",
      "display_name": "Python 3"
    },
    "language_info": {
      "name": "python"
    }
  },
  "cells": [
    {
      "cell_type": "markdown",
      "metadata": {
        "id": "view-in-github",
        "colab_type": "text"
      },
      "source": [
        "<a href=\"https://colab.research.google.com/github/kazimayaan/Machine-Learning-Lab/blob/main/astar.ipynb\" target=\"_parent\"><img src=\"https://colab.research.google.com/assets/colab-badge.svg\" alt=\"Open In Colab\"/></a>"
      ]
    },
    {
      "cell_type": "code",
      "execution_count": 3,
      "metadata": {
        "id": "UE3TFWzDv0rY"
      },
      "outputs": [],
      "source": [
        "import networkx as nx"
      ]
    },
    {
      "cell_type": "code",
      "source": [
        "G = nx.Graph()\n",
        "G.add_edge('A','B',weight=10)\n",
        "G.add_edge('A','C',weight=3)\n",
        "G.add_edge('A','D',weight=1)\n",
        "G.add_edge('B','E',weight=11)\n",
        "G.add_edge('E','F',weight=101)\n",
        "G.add_edge('F','G',weight=9)\n",
        "path = nx.astar_path(G,'A','G',weight = 'weight')\n",
        "print(path)\n",
        "nx.draw(G, with_labels='true')"
      ],
      "metadata": {
        "colab": {
          "base_uri": "https://localhost:8080/",
          "height": 336
        },
        "id": "rnOyyiS4v3o4",
        "outputId": "477c50ab-f403-4094-d44f-84fcfa1944c1"
      },
      "execution_count": 17,
      "outputs": [
        {
          "output_type": "stream",
          "name": "stdout",
          "text": [
            "['A', 'B', 'E', 'F', 'G']\n"
          ]
        },
        {
          "output_type": "display_data",
          "data": {
            "text/plain": [
              "<Figure size 432x288 with 1 Axes>"
            ],
            "image/png": "[encoded data removed]"
          },
          "metadata": {}
        }
      ]
    }
  ]
}