{
  "nbformat": 4,
  "nbformat_minor": 0,
  "metadata": {
    "colab": {
      "provenance": [],
      "authorship_tag": "ABX9TyPw72wOXtoyp4kUJXfOuCwn",
      "include_colab_link": true
    },
    "kernelspec": {
      "name": "python3",
      "display_name": "Python 3"
    },
    "language_info": {
      "name": "python"
    }
  },
  "cells": [
    {
      "cell_type": "markdown",
      "metadata": {
        "id": "view-in-github",
        "colab_type": "text"
      },
      "source": [
        "<a href=\"https://colab.research.google.com/github/kazimayaan/Machine-Learning-Lab/blob/main/candidate.ipynb\" target=\"_parent\"><img src=\"https://colab.research.google.com/assets/colab-badge.svg\" alt=\"Open In Colab\"/></a>"
      ]
    },
    {
      "cell_type": "code",
      "execution_count": 2,
      "metadata": {
        "id": "tJzNwuwWvl89"
      },
      "outputs": [],
      "source": [
        "import csv"
      ]
    },
    {
      "cell_type": "code",
      "source": [
        "posex = []\n",
        "negex = []\n",
        "spec = []\n",
        "file = \"/content/trainingex.csv\"\n",
        "fd = csv.reader(open(file))\n",
        "for line in fd:\n",
        "  print(line)\n",
        "  if line[-1]=='Yes':\n",
        "    posex.append(line)\n",
        "  elif line[-1]=='No':\n",
        "    negex.append(line)\n",
        "\n",
        "display(posex)\n",
        "display(negex)\n",
        "\n",
        "row = len(posex)\n",
        "col = len(posex[0])\n",
        "\n",
        "for i in range(col-1):\n",
        "  spec.append(posex[0][i])\n",
        "\n",
        "display(spec)\n",
        "\n",
        "for i in range(row):\n",
        "  for j in range(col-1):\n",
        "    if(spec[j]!=posex[i][j]):\n",
        "      spec[j]='?'\n",
        "display(spec)\n",
        "row = len(negex)\n",
        "for i in range(row):\n",
        "  for j in range(col-1):\n",
        "    gen = ['?','?','?','?','?','?']\n",
        "    if spec[j]!=negex[i][j]:\n",
        "      gen[j]= spec[j]\n",
        "      display(gen)"
      ],
      "metadata": {
        "colab": {
          "base_uri": "https://localhost:8080/",
          "height": 295
        },
        "id": "nAzuTm9a2U8n",
        "outputId": "0480beb9-8684-4320-ee30-4db60cc73ee9"
      },
      "execution_count": 9,
      "outputs": [
        {
          "output_type": "stream",
          "name": "stdout",
          "text": [
            "['sky', 'airtemp', 'humidity', 'wind', 'water', 'forcast', 'enjoysport']\n",
            "['Sunny', 'Warm', 'Normal', 'Strong', 'Warm', 'Same', 'Yes']\n",
            "['Sunny', 'Warm', 'High', 'Strong', 'Warm', 'Same', 'Yes']\n",
            "['Rainy', 'Cold', 'High', 'Strong', 'Warm', 'Change', 'No']\n",
            "['Sunny', 'Warm', 'High', 'Strong', 'Cool', 'Change', 'Yes']\n"
          ]
        },
        {
          "output_type": "display_data",
          "data": {
            "text/plain": [
              "[['Sunny', 'Warm', 'Normal', 'Strong', 'Warm', 'Same', 'Yes'],\n",
              " ['Sunny', 'Warm', 'High', 'Strong', 'Warm', 'Same', 'Yes'],\n",
              " ['Sunny', 'Warm', 'High', 'Strong', 'Cool', 'Change', 'Yes']]"
            ]
          },
          "metadata": {}
        },
        {
          "output_type": "display_data",
          "data": {
            "text/plain": [
              "[['Rainy', 'Cold', 'High', 'Strong', 'Warm', 'Change', 'No']]"
            ]
          },
          "metadata": {}
        },
        {
          "output_type": "display_data",
          "data": {
            "text/plain": [
              "['Sunny', 'Warm', 'Normal', 'Strong', 'Warm', 'Same']"
            ]
          },
          "metadata": {}
        },
        {
          "output_type": "display_data",
          "data": {
            "text/plain": [
              "['Sunny', 'Warm', '?', 'Strong', '?', '?']"
            ]
          },
          "metadata": {}
        },
        {
          "output_type": "display_data",
          "data": {
            "text/plain": [
              "['Sunny', '?', '?', '?', '?', '?']"
            ]
          },
          "metadata": {}
        },
        {
          "output_type": "display_data",
          "data": {
            "text/plain": [
              "['?', 'Warm', '?', '?', '?', '?']"
            ]
          },
          "metadata": {}
        },
        {
          "output_type": "display_data",
          "data": {
            "text/plain": [
              "['?', '?', '?', '?', '?', '?']"
            ]
          },
          "metadata": {}
        },
        {
          "output_type": "display_data",
          "data": {
            "text/plain": [
              "['?', '?', '?', '?', '?', '?']"
            ]
          },
          "metadata": {}
        },
        {
          "output_type": "display_data",
          "data": {
            "text/plain": [
              "['?', '?', '?', '?', '?', '?']"
            ]
          },
          "metadata": {}
        }
      ]
    }
  ]
}